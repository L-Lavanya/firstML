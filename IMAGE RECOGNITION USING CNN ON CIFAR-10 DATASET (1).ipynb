{
 "cells": [
  {
   "cell_type": "code",
   "execution_count": 62,
   "id": "a09c2f5c",
   "metadata": {},
   "outputs": [],
   "source": [
    "import keras\n",
    "from keras.datasets import cifar10\n",
    "from keras.models import Sequential\n",
    "from keras.layers import Dense,Dropout,Flatten,Conv2D,MaxPooling2D\n",
    "from pathlib import Path\n",
    "from keras.utils.np_utils import to_categorical"
   ]
  },
  {
   "cell_type": "code",
   "execution_count": 63,
   "id": "fd8441c9",
   "metadata": {},
   "outputs": [],
   "source": [
    "(x_train,y_train),(x_test,y_test) = cifar10.load_data()"
   ]
  },
  {
   "cell_type": "code",
   "execution_count": 64,
   "id": "b2088f9c",
   "metadata": {},
   "outputs": [],
   "source": [
    "#normalize data\n",
    "x_train=x_train.astype('float32')\n",
    "x_test=x_test.astype('float32')\n",
    "x_train/=255.0\n",
    "x_test/=255.0\n"
   ]
  },
  {
   "cell_type": "code",
   "execution_count": 65,
   "id": "a634247c",
   "metadata": {},
   "outputs": [],
   "source": [
    "#convert class vectors to binary class matrices\n",
    "y_train=to_categorical(y_train,10)\n",
    "y_test=to_categorical(y_test,10)"
   ]
  },
  {
   "cell_type": "code",
   "execution_count": 66,
   "id": "1f635c07",
   "metadata": {},
   "outputs": [],
   "source": [
    "#create model and add layers\n",
    "model=Sequential()\n",
    "model.add(Conv2D(32,(3,3),padding='same',input_shape=(32,32,3),activation='relu'))\n",
    "model.add(Conv2D(32,(3,3),activation='relu'))\n",
    "model.add(MaxPooling2D(pool_size=(2,2)))\n",
    "model.add(Dropout(0.25))\n",
    "\n",
    "model.add(Conv2D(64,(3,3),padding='same',activation='relu'))\n",
    "model.add(Conv2D(64,(3,3),activation='relu'))\n",
    "model.add(MaxPooling2D(pool_size=(2,2)))\n",
    "model.add(Dropout(0.25))\n",
    "\n",
    "\n",
    "model.add(Flatten())\n",
    "model.add(Dense(512,activation='relu'))\n",
    "model.add(Dropout(0.5))\n",
    "model.add(Dense(10,activation='softmax'))"
   ]
  },
  {
   "cell_type": "code",
   "execution_count": 67,
   "id": "d1c61929",
   "metadata": {},
   "outputs": [],
   "source": [
    "#compile the model\n",
    "model.compile(\n",
    "loss='categorical_crossentropy',\n",
    "optimizer='adam',\n",
    "metrics=['accuracy']\n",
    ")"
   ]
  },
  {
   "cell_type": "code",
   "execution_count": 68,
   "id": "918f08df",
   "metadata": {},
   "outputs": [
    {
     "name": "stdout",
     "output_type": "stream",
     "text": [
      "Model: \"sequential\"\n",
      "_________________________________________________________________\n",
      "Layer (type)                 Output Shape              Param #   \n",
      "=================================================================\n",
      "conv2d (Conv2D)              (None, 32, 32, 32)        896       \n",
      "_________________________________________________________________\n",
      "conv2d_1 (Conv2D)            (None, 30, 30, 32)        9248      \n",
      "_________________________________________________________________\n",
      "max_pooling2d (MaxPooling2D) (None, 15, 15, 32)        0         \n",
      "_________________________________________________________________\n",
      "dropout (Dropout)            (None, 15, 15, 32)        0         \n",
      "_________________________________________________________________\n",
      "conv2d_2 (Conv2D)            (None, 15, 15, 64)        18496     \n",
      "_________________________________________________________________\n",
      "conv2d_3 (Conv2D)            (None, 13, 13, 64)        36928     \n",
      "_________________________________________________________________\n",
      "max_pooling2d_1 (MaxPooling2 (None, 6, 6, 64)          0         \n",
      "_________________________________________________________________\n",
      "dropout_1 (Dropout)          (None, 6, 6, 64)          0         \n",
      "_________________________________________________________________\n",
      "flatten (Flatten)            (None, 2304)              0         \n",
      "_________________________________________________________________\n",
      "dense (Dense)                (None, 512)               1180160   \n",
      "_________________________________________________________________\n",
      "dropout_2 (Dropout)          (None, 512)               0         \n",
      "_________________________________________________________________\n",
      "dense_1 (Dense)              (None, 10)                5130      \n",
      "=================================================================\n",
      "Total params: 1,250,858\n",
      "Trainable params: 1,250,858\n",
      "Non-trainable params: 0\n",
      "_________________________________________________________________\n"
     ]
    }
   ],
   "source": [
    "#print the summary for the model\n",
    "model.summary()"
   ]
  },
  {
   "cell_type": "code",
   "execution_count": 16,
   "id": "fbdc250d",
   "metadata": {},
   "outputs": [
    {
     "name": "stdout",
     "output_type": "stream",
     "text": [
      "Epoch 1/20\n",
      "1563/1563 [==============================] - 166s 106ms/step - loss: 1.5079 - accuracy: 0.4512 - val_loss: 1.1232 - val_accuracy: 0.6010\n",
      "Epoch 2/20\n",
      "1563/1563 [==============================] - 193s 124ms/step - loss: 1.1233 - accuracy: 0.6015 - val_loss: 0.9455 - val_accuracy: 0.6693\n",
      "Epoch 3/20\n",
      "1563/1563 [==============================] - 174s 111ms/step - loss: 0.9716 - accuracy: 0.6568 - val_loss: 0.8581 - val_accuracy: 0.6975\n",
      "Epoch 4/20\n",
      "1563/1563 [==============================] - 175s 112ms/step - loss: 0.8785 - accuracy: 0.6917 - val_loss: 0.7925 - val_accuracy: 0.7214\n",
      "Epoch 5/20\n",
      "1563/1563 [==============================] - 176s 112ms/step - loss: 0.8186 - accuracy: 0.7131 - val_loss: 0.7459 - val_accuracy: 0.7380\n",
      "Epoch 6/20\n",
      "1563/1563 [==============================] - 175s 112ms/step - loss: 0.7621 - accuracy: 0.7348 - val_loss: 0.7306 - val_accuracy: 0.7475\n",
      "Epoch 7/20\n",
      "1563/1563 [==============================] - 176s 112ms/step - loss: 0.7253 - accuracy: 0.7436 - val_loss: 0.7293 - val_accuracy: 0.7485\n",
      "Epoch 8/20\n",
      "1563/1563 [==============================] - 174s 111ms/step - loss: 0.6921 - accuracy: 0.7586 - val_loss: 0.6829 - val_accuracy: 0.7646\n",
      "Epoch 9/20\n",
      "1563/1563 [==============================] - 174s 111ms/step - loss: 0.6588 - accuracy: 0.7684 - val_loss: 0.6783 - val_accuracy: 0.7673\n",
      "Epoch 10/20\n",
      "1563/1563 [==============================] - 174s 111ms/step - loss: 0.6421 - accuracy: 0.7740 - val_loss: 0.7256 - val_accuracy: 0.7516\n",
      "Epoch 11/20\n",
      "1563/1563 [==============================] - 174s 111ms/step - loss: 0.6134 - accuracy: 0.7855 - val_loss: 0.6705 - val_accuracy: 0.7754\n",
      "Epoch 12/20\n",
      "1563/1563 [==============================] - 175s 112ms/step - loss: 0.5958 - accuracy: 0.7901 - val_loss: 0.6579 - val_accuracy: 0.7783\n",
      "Epoch 13/20\n",
      "1563/1563 [==============================] - 175s 112ms/step - loss: 0.5817 - accuracy: 0.7947 - val_loss: 0.6605 - val_accuracy: 0.7775\n",
      "Epoch 14/20\n",
      "1563/1563 [==============================] - 174s 112ms/step - loss: 0.5657 - accuracy: 0.8022 - val_loss: 0.6507 - val_accuracy: 0.7790\n",
      "Epoch 15/20\n",
      "1563/1563 [==============================] - 175s 112ms/step - loss: 0.5449 - accuracy: 0.8073 - val_loss: 0.6912 - val_accuracy: 0.7751\n",
      "Epoch 16/20\n",
      "1563/1563 [==============================] - 174s 111ms/step - loss: 0.5387 - accuracy: 0.8102 - val_loss: 0.6438 - val_accuracy: 0.7833\n",
      "Epoch 17/20\n",
      "1563/1563 [==============================] - 173s 111ms/step - loss: 0.5252 - accuracy: 0.8146 - val_loss: 0.6303 - val_accuracy: 0.7878\n",
      "Epoch 18/20\n",
      "1563/1563 [==============================] - 175s 112ms/step - loss: 0.5070 - accuracy: 0.8222 - val_loss: 0.6674 - val_accuracy: 0.7808\n",
      "Epoch 19/20\n",
      "1563/1563 [==============================] - 174s 112ms/step - loss: 0.5036 - accuracy: 0.8215 - val_loss: 0.6511 - val_accuracy: 0.7870\n",
      "Epoch 20/20\n",
      "1563/1563 [==============================] - 175s 112ms/step - loss: 0.4900 - accuracy: 0.8280 - val_loss: 0.6480 - val_accuracy: 0.7877\n"
     ]
    },
    {
     "data": {
      "text/plain": [
       "<keras.callbacks.History at 0x1d7de4c0790>"
      ]
     },
     "execution_count": 16,
     "metadata": {},
     "output_type": "execute_result"
    }
   ],
   "source": [
    "#train the model\n",
    "model.fit(\n",
    "   x_train,\n",
    "   y_train,\n",
    "   batch_size=32,\n",
    "   epochs=20,\n",
    "   validation_data=(x_test,y_test),\n",
    "   shuffle=True\n",
    ")"
   ]
  },
  {
   "cell_type": "code",
   "execution_count": 69,
   "id": "aae62e72",
   "metadata": {},
   "outputs": [
    {
     "data": {
      "text/plain": [
       "4383"
      ]
     },
     "execution_count": 69,
     "metadata": {},
     "output_type": "execute_result"
    }
   ],
   "source": [
    "#save the neural network structure\n",
    "model_structure=model.to_json()\n",
    "f=Path(\"model_structure.json\")\n",
    "f.write_text(model_structure)"
   ]
  },
  {
   "cell_type": "code",
   "execution_count": 70,
   "id": "2d987f93",
   "metadata": {},
   "outputs": [],
   "source": [
    "#save the trained neural network weights\n",
    "model.save_weights(\"model_weights.h5\")"
   ]
  },
  {
   "cell_type": "code",
   "execution_count": 71,
   "id": "a174c837",
   "metadata": {},
   "outputs": [],
   "source": [
    "#make predictions on images\n",
    "from keras.models import model_from_json\n",
    "from pathlib import Path\n",
    "from keras.preprocessing import image\n",
    "import numpy as np"
   ]
  },
  {
   "cell_type": "code",
   "execution_count": 72,
   "id": "b819a86f",
   "metadata": {},
   "outputs": [],
   "source": [
    "#cifar-10 dataset class labels\n",
    "class_labels=[\n",
    "    \"Planes\",\n",
    "    \"Car\",\n",
    "    \"Bird\",\n",
    "    \"Cat\",\n",
    "    \"Deer\",\n",
    "    \"Dog\",\n",
    "    \"Frog\",\n",
    "    \"Horse\",\n",
    "    \"Boat\",\n",
    "    \"Truck\",\n",
    "]"
   ]
  },
  {
   "cell_type": "code",
   "execution_count": 73,
   "id": "2d22994b",
   "metadata": {},
   "outputs": [],
   "source": [
    "#load the json file that contains model structure\n",
    "f=Path(\"model_structure.json\")\n",
    "model_structure=f.read_text()"
   ]
  },
  {
   "cell_type": "code",
   "execution_count": 74,
   "id": "4b31bff9",
   "metadata": {},
   "outputs": [],
   "source": [
    "#recreate the keras model object from the json data\n",
    "model=model_from_json(model_structure)"
   ]
  },
  {
   "cell_type": "code",
   "execution_count": 75,
   "id": "4f5b4f2c",
   "metadata": {},
   "outputs": [],
   "source": [
    "#reload the model trained weights\n",
    "model.load_weights(\"model_weights.h5\")"
   ]
  },
  {
   "cell_type": "code",
   "execution_count": 76,
   "id": "c7b0224f",
   "metadata": {},
   "outputs": [
    {
     "name": "stdout",
     "output_type": "stream",
     "text": [
      "Requirement already satisfied: Pillow in c:\\users\\lavanya lakkakula\\anaconda3\\envs\\tensorflow\\lib\\site-packages (9.1.0)\n"
     ]
    }
   ],
   "source": [
    "!pip install Pillow"
   ]
  },
  {
   "cell_type": "code",
   "execution_count": 77,
   "id": "bfe66066",
   "metadata": {},
   "outputs": [],
   "source": [
    "from keras.preprocessing.image import load_img\n",
    "from keras.preprocessing.image import img_to_array\n"
   ]
  },
  {
   "cell_type": "code",
   "execution_count": 89,
   "id": "d170e2c5",
   "metadata": {
    "scrolled": false
   },
   "outputs": [],
   "source": [
    "#load an image pil to test\n",
    "img=load_img(\"truck.jpg\",target_size=(32,32))"
   ]
  },
  {
   "cell_type": "code",
   "execution_count": null,
   "id": "fdded903",
   "metadata": {},
   "outputs": [],
   "source": []
  },
  {
   "cell_type": "code",
   "execution_count": 79,
   "id": "b4fa180e",
   "metadata": {},
   "outputs": [],
   "source": [
    "from keras.models import load_model"
   ]
  },
  {
   "cell_type": "raw",
   "id": "aa736aa1",
   "metadata": {},
   "source": [
    "tensorflow.keras.Model.load_weights(location/weights_name)"
   ]
  },
  {
   "cell_type": "code",
   "execution_count": 80,
   "id": "b2df6dc0",
   "metadata": {},
   "outputs": [],
   "source": [
    "#convert the image to a numpy array\n",
    "image_to_test=img_to_array(img)"
   ]
  },
  {
   "cell_type": "code",
   "execution_count": 81,
   "id": "8e854a45",
   "metadata": {},
   "outputs": [],
   "source": [
    "import numpy as np"
   ]
  },
  {
   "cell_type": "code",
   "execution_count": 82,
   "id": "a3f78a76",
   "metadata": {},
   "outputs": [],
   "source": [
    "#add a 4th dimension to image\n",
    "list_of_images=np.expand_dims(image_to_test,axis=0)"
   ]
  },
  {
   "cell_type": "code",
   "execution_count": null,
   "id": "3aff4ef8",
   "metadata": {},
   "outputs": [],
   "source": []
  },
  {
   "cell_type": "code",
   "execution_count": 83,
   "id": "b3d72fc0",
   "metadata": {
    "scrolled": false
   },
   "outputs": [],
   "source": [
    "#make predictions using model\n",
    "results=model.predict(list_of_images)"
   ]
  },
  {
   "cell_type": "code",
   "execution_count": 84,
   "id": "9aa0bdc0",
   "metadata": {},
   "outputs": [],
   "source": [
    "#1 testing image,check first result\n",
    "single_result=results[0]"
   ]
  },
  {
   "cell_type": "code",
   "execution_count": 85,
   "id": "0986560f",
   "metadata": {},
   "outputs": [],
   "source": [
    "#we will get a likelihood score for all 10 possible classes,findout the highest score\n",
    "most_likely_class_index=int(np.argmax(single_result))\n",
    "class_likelihood=single_result[most_likely_class_index]"
   ]
  },
  {
   "cell_type": "code",
   "execution_count": 86,
   "id": "dce73809",
   "metadata": {},
   "outputs": [],
   "source": [
    "#get the name of the most likely class\n",
    "class_label=class_labels[most_likely_class_index]"
   ]
  },
  {
   "cell_type": "code",
   "execution_count": 90,
   "id": "98e1f142",
   "metadata": {},
   "outputs": [
    {
     "name": "stdout",
     "output_type": "stream",
     "text": [
      "This is image is a Truck-Likelihood:0.998263\n"
     ]
    }
   ],
   "source": [
    "#print the result\n",
    "print(\"This is image is a {}-Likelihood:{:2f}\".format(class_label,class_likelihood))"
   ]
  },
  {
   "cell_type": "code",
   "execution_count": null,
   "id": "f337ce25",
   "metadata": {},
   "outputs": [],
   "source": []
  }
 ],
 "metadata": {
  "kernelspec": {
   "display_name": "Python 3 (ipykernel)",
   "language": "python",
   "name": "python3"
  },
  "language_info": {
   "codemirror_mode": {
    "name": "ipython",
    "version": 3
   },
   "file_extension": ".py",
   "mimetype": "text/x-python",
   "name": "python",
   "nbconvert_exporter": "python",
   "pygments_lexer": "ipython3",
   "version": "3.9.12"
  }
 },
 "nbformat": 4,
 "nbformat_minor": 5
}
